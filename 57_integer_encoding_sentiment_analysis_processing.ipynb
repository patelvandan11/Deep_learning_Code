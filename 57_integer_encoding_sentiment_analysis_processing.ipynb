{
 "cells": [
  {
   "cell_type": "code",
   "execution_count": 1,
   "metadata": {},
   "outputs": [],
   "source": [
    "import numpy as np"
   ]
  },
  {
   "cell_type": "code",
   "execution_count": 2,
   "metadata": {},
   "outputs": [],
   "source": [
    "docs=[\"i am student\",\n",
    "      \"my name is vandan\",\n",
    "      \"my hobby is cricket\",\n",
    "      \"i study in ADIT\",\n",
    "      \"i am from gujarat\",\n",
    "      \"i am from india\",\n",
    "      \"i am from earth\",\n",
    "      \"i am Data Scientist\"]"
   ]
  },
  {
   "cell_type": "code",
   "execution_count": 3,
   "metadata": {},
   "outputs": [],
   "source": [
    "from keras.preprocessing.text import Tokenizer\n",
    "tokenizer=Tokenizer(oov_token=\"not_known\")\n",
    "tokenizer.fit_on_texts(docs)\n"
   ]
  },
  {
   "cell_type": "code",
   "execution_count": 6,
   "metadata": {},
   "outputs": [
    {
     "data": {
      "text/plain": [
       "OrderedDict([('i', 6),\n",
       "             ('am', 5),\n",
       "             ('student', 1),\n",
       "             ('my', 2),\n",
       "             ('name', 1),\n",
       "             ('is', 2),\n",
       "             ('vandan', 1),\n",
       "             ('hobby', 1),\n",
       "             ('cricket', 1),\n",
       "             ('study', 1),\n",
       "             ('in', 1),\n",
       "             ('adit', 1),\n",
       "             ('from', 3),\n",
       "             ('gujarat', 1),\n",
       "             ('india', 1),\n",
       "             ('earth', 1),\n",
       "             ('data', 1),\n",
       "             ('scientist', 1)])"
      ]
     },
     "execution_count": 6,
     "metadata": {},
     "output_type": "execute_result"
    }
   ],
   "source": [
    "tokenizer.word_counts"
   ]
  },
  {
   "cell_type": "code",
   "execution_count": 7,
   "metadata": {},
   "outputs": [
    {
     "data": {
      "text/plain": [
       "8"
      ]
     },
     "execution_count": 7,
     "metadata": {},
     "output_type": "execute_result"
    }
   ],
   "source": [
    "tokenizer.document_count"
   ]
  },
  {
   "cell_type": "code",
   "execution_count": 8,
   "metadata": {},
   "outputs": [
    {
     "data": {
      "text/plain": [
       "{'not_known': 1,\n",
       " 'i': 2,\n",
       " 'am': 3,\n",
       " 'from': 4,\n",
       " 'my': 5,\n",
       " 'is': 6,\n",
       " 'student': 7,\n",
       " 'name': 8,\n",
       " 'vandan': 9,\n",
       " 'hobby': 10,\n",
       " 'cricket': 11,\n",
       " 'study': 12,\n",
       " 'in': 13,\n",
       " 'adit': 14,\n",
       " 'gujarat': 15,\n",
       " 'india': 16,\n",
       " 'earth': 17,\n",
       " 'data': 18,\n",
       " 'scientist': 19}"
      ]
     },
     "execution_count": 8,
     "metadata": {},
     "output_type": "execute_result"
    }
   ],
   "source": [
    "tokenizer.word_index"
   ]
  },
  {
   "cell_type": "code",
   "execution_count": 10,
   "metadata": {},
   "outputs": [
    {
     "data": {
      "text/plain": [
       "[[2, 3, 7],\n",
       " [5, 8, 6, 9],\n",
       " [5, 10, 6, 11],\n",
       " [2, 12, 13, 14],\n",
       " [2, 3, 4, 15],\n",
       " [2, 3, 4, 16],\n",
       " [2, 3, 4, 17],\n",
       " [2, 3, 18, 19]]"
      ]
     },
     "execution_count": 10,
     "metadata": {},
     "output_type": "execute_result"
    }
   ],
   "source": [
    "sequences=tokenizer.texts_to_sequences(docs)\n",
    "sequences"
   ]
  },
  {
   "cell_type": "code",
   "execution_count": 17,
   "metadata": {},
   "outputs": [],
   "source": [
    "from keras.utils import pad_sequences\n",
    "padded=pad_sequences(sequences,padding=\"post\")"
   ]
  },
  {
   "cell_type": "code",
   "execution_count": 18,
   "metadata": {},
   "outputs": [
    {
     "data": {
      "text/plain": [
       "array([[ 2,  3,  7,  0],\n",
       "       [ 5,  8,  6,  9],\n",
       "       [ 5, 10,  6, 11],\n",
       "       [ 2, 12, 13, 14],\n",
       "       [ 2,  3,  4, 15],\n",
       "       [ 2,  3,  4, 16],\n",
       "       [ 2,  3,  4, 17],\n",
       "       [ 2,  3, 18, 19]])"
      ]
     },
     "execution_count": 18,
     "metadata": {},
     "output_type": "execute_result"
    }
   ],
   "source": [
    "padded"
   ]
  }
 ],
 "metadata": {
  "kernelspec": {
   "display_name": "TF_D",
   "language": "python",
   "name": "python3"
  },
  "language_info": {
   "codemirror_mode": {
    "name": "ipython",
    "version": 3
   },
   "file_extension": ".py",
   "mimetype": "text/x-python",
   "name": "python",
   "nbconvert_exporter": "python",
   "pygments_lexer": "ipython3",
   "version": "3.9.20"
  }
 },
 "nbformat": 4,
 "nbformat_minor": 2
}
